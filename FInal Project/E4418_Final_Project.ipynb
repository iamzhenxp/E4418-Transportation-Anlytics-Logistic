{
 "cells": [
  {
   "cell_type": "code",
   "execution_count": 20,
   "metadata": {
    "id": "H6ddUSqAREg7"
   },
   "outputs": [],
   "source": [
    "import numpy as np\n",
    "import pandas as pd\n",
    "from gurobipy import * \n",
    "import gurobipy as gp"
   ]
  },
  {
   "cell_type": "code",
   "execution_count": 2,
   "metadata": {
    "id": "xgYFYDZTRaSe"
   },
   "outputs": [],
   "source": [
    "data = pd.read_csv('https://raw.githubusercontent.com/iamzhenxp/E4418-Transportation-Anlytics-Logistic/FInal-project/FInal%20Project/Scooter%20Data.csv', encoding='unicode_escape')\n",
    "map = pd.read_csv('https://raw.githubusercontent.com/iamzhenxp/E4418-Transportation-Anlytics-Logistic/FInal-project/FInal%20Project/CenterlineID.csv', encoding='unicode_escape')"
   ]
  },
  {
   "cell_type": "code",
   "execution_count": 3,
   "metadata": {
    "id": "x5sedFPMR_Kl",
    "scrolled": true
   },
   "outputs": [
    {
     "data": {
      "text/html": [
       "<div>\n",
       "<style scoped>\n",
       "    .dataframe tbody tr th:only-of-type {\n",
       "        vertical-align: middle;\n",
       "    }\n",
       "\n",
       "    .dataframe tbody tr th {\n",
       "        vertical-align: top;\n",
       "    }\n",
       "\n",
       "    .dataframe thead th {\n",
       "        text-align: right;\n",
       "    }\n",
       "</style>\n",
       "<table border=\"1\" class=\"dataframe\">\n",
       "  <thead>\n",
       "    <tr style=\"text-align: right;\">\n",
       "      <th></th>\n",
       "      <th>ï»¿ObjectId</th>\n",
       "      <th>TripID</th>\n",
       "      <th>TripDuration</th>\n",
       "      <th>TripDistance</th>\n",
       "      <th>StartTime</th>\n",
       "      <th>EndTime</th>\n",
       "      <th>StartCenterlineID</th>\n",
       "      <th>StartCenterlineType</th>\n",
       "      <th>EndCenterlineID</th>\n",
       "      <th>EndCenterlineType</th>\n",
       "    </tr>\n",
       "  </thead>\n",
       "  <tbody>\n",
       "    <tr>\n",
       "      <th>0</th>\n",
       "      <td>1</td>\n",
       "      <td>1256</td>\n",
       "      <td>289</td>\n",
       "      <td>1453</td>\n",
       "      <td>2021/04/29 20:00:00+00</td>\n",
       "      <td>2021/04/29 20:00:00+00</td>\n",
       "      <td>16644.0</td>\n",
       "      <td>street</td>\n",
       "      <td>15359.0</td>\n",
       "      <td>street</td>\n",
       "    </tr>\n",
       "    <tr>\n",
       "      <th>1</th>\n",
       "      <td>2</td>\n",
       "      <td>1336</td>\n",
       "      <td>490</td>\n",
       "      <td>1561</td>\n",
       "      <td>2021/04/29 20:00:00+00</td>\n",
       "      <td>2021/04/29 20:00:00+00</td>\n",
       "      <td>16638.0</td>\n",
       "      <td>street</td>\n",
       "      <td>26004.0</td>\n",
       "      <td>street</td>\n",
       "    </tr>\n",
       "    <tr>\n",
       "      <th>2</th>\n",
       "      <td>3</td>\n",
       "      <td>1344</td>\n",
       "      <td>246</td>\n",
       "      <td>96</td>\n",
       "      <td>2021/04/29 20:00:00+00</td>\n",
       "      <td>2021/04/29 20:00:00+00</td>\n",
       "      <td>16641.0</td>\n",
       "      <td>street</td>\n",
       "      <td>16641.0</td>\n",
       "      <td>street</td>\n",
       "    </tr>\n",
       "    <tr>\n",
       "      <th>3</th>\n",
       "      <td>4</td>\n",
       "      <td>1361</td>\n",
       "      <td>3900</td>\n",
       "      <td>5101</td>\n",
       "      <td>2021/04/29 20:00:00+00</td>\n",
       "      <td>2021/04/29 21:00:00+00</td>\n",
       "      <td>20562.0</td>\n",
       "      <td>street</td>\n",
       "      <td>15844.0</td>\n",
       "      <td>street</td>\n",
       "    </tr>\n",
       "    <tr>\n",
       "      <th>4</th>\n",
       "      <td>5</td>\n",
       "      <td>1357</td>\n",
       "      <td>734</td>\n",
       "      <td>3653</td>\n",
       "      <td>2021/04/29 20:29:59+00</td>\n",
       "      <td>2021/04/29 20:29:59+00</td>\n",
       "      <td>17095.0</td>\n",
       "      <td>street</td>\n",
       "      <td>NaN</td>\n",
       "      <td>trail</td>\n",
       "    </tr>\n",
       "  </tbody>\n",
       "</table>\n",
       "</div>"
      ],
      "text/plain": [
       "   ï»¿ObjectId  TripID  TripDuration  TripDistance               StartTime  \\\n",
       "0            1    1256           289          1453  2021/04/29 20:00:00+00   \n",
       "1            2    1336           490          1561  2021/04/29 20:00:00+00   \n",
       "2            3    1344           246            96  2021/04/29 20:00:00+00   \n",
       "3            4    1361          3900          5101  2021/04/29 20:00:00+00   \n",
       "4            5    1357           734          3653  2021/04/29 20:29:59+00   \n",
       "\n",
       "                  EndTime  StartCenterlineID StartCenterlineType  \\\n",
       "0  2021/04/29 20:00:00+00            16644.0              street   \n",
       "1  2021/04/29 20:00:00+00            16638.0              street   \n",
       "2  2021/04/29 20:00:00+00            16641.0              street   \n",
       "3  2021/04/29 21:00:00+00            20562.0              street   \n",
       "4  2021/04/29 20:29:59+00            17095.0              street   \n",
       "\n",
       "   EndCenterlineID EndCenterlineType  \n",
       "0          15359.0            street  \n",
       "1          26004.0            street  \n",
       "2          16641.0            street  \n",
       "3          15844.0            street  \n",
       "4              NaN             trail  "
      ]
     },
     "execution_count": 3,
     "metadata": {},
     "output_type": "execute_result"
    }
   ],
   "source": [
    "##data.columns=['tripid','tripduration',]\n",
    "data.head()"
   ]
  },
  {
   "cell_type": "code",
   "execution_count": 4,
   "metadata": {
    "id": "PaMBIKQHR_-T"
   },
   "outputs": [
    {
     "data": {
      "text/html": [
       "<div>\n",
       "<style scoped>\n",
       "    .dataframe tbody tr th:only-of-type {\n",
       "        vertical-align: middle;\n",
       "    }\n",
       "\n",
       "    .dataframe tbody tr th {\n",
       "        vertical-align: top;\n",
       "    }\n",
       "\n",
       "    .dataframe thead th {\n",
       "        text-align: right;\n",
       "    }\n",
       "</style>\n",
       "<table border=\"1\" class=\"dataframe\">\n",
       "  <thead>\n",
       "    <tr style=\"text-align: right;\">\n",
       "      <th></th>\n",
       "      <th>ï»¿OBJECTID</th>\n",
       "      <th>L_F_ADD</th>\n",
       "      <th>R_F_ADD</th>\n",
       "      <th>L_T_ADD</th>\n",
       "      <th>R_T_ADD</th>\n",
       "      <th>STREETALL</th>\n",
       "      <th>F_CLASS</th>\n",
       "      <th>ALT_NAM1</th>\n",
       "      <th>ALT_NAM2</th>\n",
       "      <th>ZIP5_L</th>\n",
       "      <th>...</th>\n",
       "      <th>F_XSTREET_1</th>\n",
       "      <th>F_XSTREET_2</th>\n",
       "      <th>F_XSTREET_3</th>\n",
       "      <th>T_XSTREET_1</th>\n",
       "      <th>T_XSTREET_2</th>\n",
       "      <th>T_XSTREET_3</th>\n",
       "      <th>GlobalID</th>\n",
       "      <th>FromLanes</th>\n",
       "      <th>ToLanes</th>\n",
       "      <th>Shape__Length</th>\n",
       "    </tr>\n",
       "  </thead>\n",
       "  <tbody>\n",
       "    <tr>\n",
       "      <th>0</th>\n",
       "      <td>1</td>\n",
       "      <td>3000</td>\n",
       "      <td>3001</td>\n",
       "      <td>3098</td>\n",
       "      <td>3099</td>\n",
       "      <td>39TH ST E</td>\n",
       "      <td>A40</td>\n",
       "      <td>NaN</td>\n",
       "      <td>NaN</td>\n",
       "      <td>55406</td>\n",
       "      <td>...</td>\n",
       "      <td>30TH AVE S</td>\n",
       "      <td>NaN</td>\n",
       "      <td>NaN</td>\n",
       "      <td>NOKOMIS AVE S</td>\n",
       "      <td>NaN</td>\n",
       "      <td>NaN</td>\n",
       "      <td>29744cc9-5dea-4a48-a068-2daccb8ca02b</td>\n",
       "      <td>1</td>\n",
       "      <td>1.0</td>\n",
       "      <td>138.028160</td>\n",
       "    </tr>\n",
       "    <tr>\n",
       "      <th>1</th>\n",
       "      <td>2</td>\n",
       "      <td>601</td>\n",
       "      <td>600</td>\n",
       "      <td>613</td>\n",
       "      <td>612</td>\n",
       "      <td>SHERIDAN AVE N</td>\n",
       "      <td>A40</td>\n",
       "      <td>NaN</td>\n",
       "      <td>NaN</td>\n",
       "      <td>55411</td>\n",
       "      <td>...</td>\n",
       "      <td>OLSON MEMORIAL HWY</td>\n",
       "      <td>NaN</td>\n",
       "      <td>NaN</td>\n",
       "      <td>7TH AVE N</td>\n",
       "      <td>NaN</td>\n",
       "      <td>NaN</td>\n",
       "      <td>bc64c65c-369f-49e9-9cfc-c46b5aedb84d</td>\n",
       "      <td>1</td>\n",
       "      <td>1.0</td>\n",
       "      <td>24.108303</td>\n",
       "    </tr>\n",
       "    <tr>\n",
       "      <th>2</th>\n",
       "      <td>3</td>\n",
       "      <td>1998</td>\n",
       "      <td>1999</td>\n",
       "      <td>1900</td>\n",
       "      <td>1901</td>\n",
       "      <td>57TH ST W</td>\n",
       "      <td>A40</td>\n",
       "      <td>NaN</td>\n",
       "      <td>NaN</td>\n",
       "      <td>55419</td>\n",
       "      <td>...</td>\n",
       "      <td>MORGAN AVE S</td>\n",
       "      <td>NaN</td>\n",
       "      <td>NaN</td>\n",
       "      <td>LOGAN AVE S</td>\n",
       "      <td>NaN</td>\n",
       "      <td>NaN</td>\n",
       "      <td>0b2b1962-c712-4854-8b5e-9430e8009df5</td>\n",
       "      <td>1</td>\n",
       "      <td>1.0</td>\n",
       "      <td>142.731382</td>\n",
       "    </tr>\n",
       "    <tr>\n",
       "      <th>3</th>\n",
       "      <td>4</td>\n",
       "      <td>600</td>\n",
       "      <td>601</td>\n",
       "      <td>618</td>\n",
       "      <td>619</td>\n",
       "      <td>40TH ST E</td>\n",
       "      <td>A40</td>\n",
       "      <td>NaN</td>\n",
       "      <td>NaN</td>\n",
       "      <td>55407</td>\n",
       "      <td>...</td>\n",
       "      <td>PORTLAND AVE</td>\n",
       "      <td>NaN</td>\n",
       "      <td>NaN</td>\n",
       "      <td>OAKLAND AVE</td>\n",
       "      <td>NaN</td>\n",
       "      <td>NaN</td>\n",
       "      <td>4de4c732-6273-4758-926a-fb5480518a57</td>\n",
       "      <td>1</td>\n",
       "      <td>1.0</td>\n",
       "      <td>140.356403</td>\n",
       "    </tr>\n",
       "    <tr>\n",
       "      <th>4</th>\n",
       "      <td>5</td>\n",
       "      <td>3198</td>\n",
       "      <td>3199</td>\n",
       "      <td>3100</td>\n",
       "      <td>3101</td>\n",
       "      <td>46TH AVE S</td>\n",
       "      <td>A40</td>\n",
       "      <td>NaN</td>\n",
       "      <td>NaN</td>\n",
       "      <td>55406</td>\n",
       "      <td>...</td>\n",
       "      <td>32ND ST E</td>\n",
       "      <td>NaN</td>\n",
       "      <td>NaN</td>\n",
       "      <td>31ST ST E</td>\n",
       "      <td>NaN</td>\n",
       "      <td>NaN</td>\n",
       "      <td>89ca243a-d516-4e54-8a98-13bb4fa0d8ff</td>\n",
       "      <td>1</td>\n",
       "      <td>1.0</td>\n",
       "      <td>271.241016</td>\n",
       "    </tr>\n",
       "  </tbody>\n",
       "</table>\n",
       "<p>5 rows × 35 columns</p>\n",
       "</div>"
      ],
      "text/plain": [
       "   ï»¿OBJECTID  L_F_ADD  R_F_ADD  L_T_ADD  R_T_ADD       STREETALL F_CLASS  \\\n",
       "0            1     3000     3001     3098     3099       39TH ST E     A40   \n",
       "1            2      601      600      613      612  SHERIDAN AVE N     A40   \n",
       "2            3     1998     1999     1900     1901       57TH ST W     A40   \n",
       "3            4      600      601      618      619       40TH ST E     A40   \n",
       "4            5     3198     3199     3100     3101      46TH AVE S     A40   \n",
       "\n",
       "  ALT_NAM1 ALT_NAM2  ZIP5_L  ...         F_XSTREET_1 F_XSTREET_2 F_XSTREET_3  \\\n",
       "0      NaN      NaN   55406  ...          30TH AVE S         NaN         NaN   \n",
       "1      NaN      NaN   55411  ...  OLSON MEMORIAL HWY         NaN         NaN   \n",
       "2      NaN      NaN   55419  ...        MORGAN AVE S         NaN         NaN   \n",
       "3      NaN      NaN   55407  ...        PORTLAND AVE         NaN         NaN   \n",
       "4      NaN      NaN   55406  ...           32ND ST E         NaN         NaN   \n",
       "\n",
       "     T_XSTREET_1 T_XSTREET_2 T_XSTREET_3  \\\n",
       "0  NOKOMIS AVE S         NaN         NaN   \n",
       "1      7TH AVE N         NaN         NaN   \n",
       "2    LOGAN AVE S         NaN         NaN   \n",
       "3    OAKLAND AVE         NaN         NaN   \n",
       "4      31ST ST E         NaN         NaN   \n",
       "\n",
       "                               GlobalID  FromLanes ToLanes  Shape__Length  \n",
       "0  29744cc9-5dea-4a48-a068-2daccb8ca02b          1     1.0     138.028160  \n",
       "1  bc64c65c-369f-49e9-9cfc-c46b5aedb84d          1     1.0      24.108303  \n",
       "2  0b2b1962-c712-4854-8b5e-9430e8009df5          1     1.0     142.731382  \n",
       "3  4de4c732-6273-4758-926a-fb5480518a57          1     1.0     140.356403  \n",
       "4  89ca243a-d516-4e54-8a98-13bb4fa0d8ff          1     1.0     271.241016  \n",
       "\n",
       "[5 rows x 35 columns]"
      ]
     },
     "execution_count": 4,
     "metadata": {},
     "output_type": "execute_result"
    }
   ],
   "source": [
    "map.head()"
   ]
  },
  {
   "cell_type": "code",
   "execution_count": 5,
   "metadata": {
    "id": "8iV4JUhJSGAd"
   },
   "outputs": [],
   "source": [
    "street = pd.DataFrame(data.StartCenterlineID.unique()).dropna()\n",
    "dis = pd.DataFrame(np.zeros([len(street),len(street)]))\n",
    "dis.columns = street.iloc[:,0]"
   ]
  },
  {
   "cell_type": "code",
   "execution_count": 18,
   "metadata": {
    "id": "e-7FOmRBuPYs"
   },
   "outputs": [],
   "source": [
    "grouped = data.groupby(['StartCenterlineID'])"
   ]
  },
  {
   "cell_type": "code",
   "execution_count": 13,
   "metadata": {},
   "outputs": [],
   "source": [
    "street['total_dis']= np.zeros(len(street))\n",
    "street.columns = ['ind','total_dis']"
   ]
  },
  {
   "cell_type": "code",
   "execution_count": 16,
   "metadata": {
    "scrolled": true
   },
   "outputs": [],
   "source": [
    "for ID in street.ind:\n",
    "    street.loc[street.ind==ID,'total_dis'] = grouped.get_group(ID)['TripDistance'].sum()\n",
    "    street.loc[street.ind==ID,'total_dur'] = grouped.get_group(ID)['TripDuration'].sum()    "
   ]
  },
  {
   "cell_type": "code",
   "execution_count": 28,
   "metadata": {
    "id": "R-mXtR69SF-d"
   },
   "outputs": [],
   "source": [
    "n = len(street)"
   ]
  },
  {
   "cell_type": "code",
   "execution_count": 36,
   "metadata": {
    "id": "HikaZr-vSF61"
   },
   "outputs": [],
   "source": [
    "m = Model('battery')\n",
    "# variables\n",
    "xvar = {}\n",
    "for j in range(n):\n",
    "    xvar[j] = m.addVar(name='y'+str(j),vtype=GRB.BINARY)\n",
    "for i in range(n):\n",
    "    for j in range(n):\n",
    "        xvar[10*i+j] = m.addVar(name='x'+str(i)+','+str(j),ub=1)\n",
    "for j in range(n):\n",
    "    xvar[j] = m.addVar(name='z'+str(j))"
   ]
  },
  {
   "cell_type": "code",
   "execution_count": 32,
   "metadata": {
    "id": "-dhm_yAmSF41"
   },
   "outputs": [
    {
     "data": {
      "text/plain": [
       "<gurobi.Model Continuous instance battery: 0 constrs, 0 vars, No parameter changes>"
      ]
     },
     "execution_count": 32,
     "metadata": {},
     "output_type": "execute_result"
    }
   ],
   "source": []
  },
  {
   "cell_type": "code",
   "execution_count": null,
   "metadata": {
    "id": "_W0KE5ahSF2u"
   },
   "outputs": [],
   "source": []
  },
  {
   "cell_type": "code",
   "execution_count": null,
   "metadata": {
    "id": "1syPc90KSF01"
   },
   "outputs": [],
   "source": []
  },
  {
   "cell_type": "code",
   "execution_count": null,
   "metadata": {
    "id": "pKsGe-Y7SFt8"
   },
   "outputs": [],
   "source": []
  }
 ],
 "metadata": {
  "colab": {
   "name": "E4418_Final Project.ipynb",
   "private_outputs": true,
   "provenance": []
  },
  "kernelspec": {
   "display_name": "Python 3",
   "language": "python",
   "name": "python3"
  },
  "language_info": {
   "codemirror_mode": {
    "name": "ipython",
    "version": 3
   },
   "file_extension": ".py",
   "mimetype": "text/x-python",
   "name": "python",
   "nbconvert_exporter": "python",
   "pygments_lexer": "ipython3",
   "version": "3.8.5"
  }
 },
 "nbformat": 4,
 "nbformat_minor": 1
}
