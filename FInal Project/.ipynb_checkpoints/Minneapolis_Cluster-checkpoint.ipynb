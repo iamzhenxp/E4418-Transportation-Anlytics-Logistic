{
 "cells": [
  {
   "cell_type": "code",
   "execution_count": 3,
   "metadata": {
    "id": "xQj42DEKVVZW"
   },
   "outputs": [],
   "source": [
    "import pandas as pd\n",
    "import numpy as np\n",
    "from sklearn.linear_model import LinearRegression\n",
    "from sklearn.linear_model import Lasso\n",
    "from sklearn.linear_model import LassoCV\n",
    "from sklearn.linear_model import Ridge\n",
    "from sklearn.linear_model import RidgeCV\n",
    "from sklearn.metrics import r2_score\n",
    "from sklearn import metrics\n",
    "from sklearn.model_selection import train_test_split\n",
    "import matplotlib.pyplot as plt\n",
    "from matplotlib.pyplot import figure\n",
    "from sklearn import svm\n",
    "from sklearn.model_selection import cross_val_score\n",
    "from sklearn.metrics import mean_squared_error\n",
    "from sklearn.model_selection import KFold\n",
    "import seaborn as sns\n",
    "import warnings\n",
    "from sklearn.exceptions import DataConversionWarning\n",
    "#from yellowbrick.regressor import ManualAlphaSelection\n",
    "#from yellowbrick.regressor import AlphaSelection\n",
    "from sklearn.decomposition import PCA\n",
    "from sklearn.cluster import KMeans\n",
    "from sklearn import preprocessing"
   ]
  },
  {
   "cell_type": "code",
   "execution_count": 4,
   "metadata": {
    "id": "rmjwI9huVfzw"
   },
   "outputs": [],
   "source": [
    "data = pd.read_csv(\"https://raw.githubusercontent.com/iamzhenxp/E4418-Transportation-Anlytics-Logistic/FInal-project/FInal%20Project/Minneapolis_data_coordinate.csv\", encoding = 'unicode_escape')"
   ]
  },
  {
   "cell_type": "code",
   "execution_count": 5,
   "metadata": {
    "id": "IVX8y4eJWQq9"
   },
   "outputs": [
    {
     "data": {
      "text/html": [
       "<div>\n",
       "<style scoped>\n",
       "    .dataframe tbody tr th:only-of-type {\n",
       "        vertical-align: middle;\n",
       "    }\n",
       "\n",
       "    .dataframe tbody tr th {\n",
       "        vertical-align: top;\n",
       "    }\n",
       "\n",
       "    .dataframe thead th {\n",
       "        text-align: right;\n",
       "    }\n",
       "</style>\n",
       "<table border=\"1\" class=\"dataframe\">\n",
       "  <thead>\n",
       "    <tr style=\"text-align: right;\">\n",
       "      <th></th>\n",
       "      <th>Unnamed: 0</th>\n",
       "      <th>TripDuration</th>\n",
       "      <th>TripDistance</th>\n",
       "      <th>StartTime</th>\n",
       "      <th>StartCenterlineID</th>\n",
       "      <th>Zipcode</th>\n",
       "      <th>LAT</th>\n",
       "      <th>LNG</th>\n",
       "      <th>start_lat</th>\n",
       "      <th>start_lon</th>\n",
       "    </tr>\n",
       "  </thead>\n",
       "  <tbody>\n",
       "    <tr>\n",
       "      <th>0</th>\n",
       "      <td>1</td>\n",
       "      <td>490</td>\n",
       "      <td>1561</td>\n",
       "      <td>2021/04/29 20:00:00+00</td>\n",
       "      <td>16638.0</td>\n",
       "      <td>55414.0</td>\n",
       "      <td>44.979486</td>\n",
       "      <td>-93.227314</td>\n",
       "      <td>44.981964</td>\n",
       "      <td>-93.234606</td>\n",
       "    </tr>\n",
       "    <tr>\n",
       "      <th>1</th>\n",
       "      <td>3</td>\n",
       "      <td>246</td>\n",
       "      <td>96</td>\n",
       "      <td>2021/04/29 20:00:00+00</td>\n",
       "      <td>16641.0</td>\n",
       "      <td>55414.0</td>\n",
       "      <td>44.979486</td>\n",
       "      <td>-93.227314</td>\n",
       "      <td>44.981536</td>\n",
       "      <td>-93.236780</td>\n",
       "    </tr>\n",
       "    <tr>\n",
       "      <th>2</th>\n",
       "      <td>4</td>\n",
       "      <td>3900</td>\n",
       "      <td>5101</td>\n",
       "      <td>2021/04/29 20:00:00+00</td>\n",
       "      <td>20562.0</td>\n",
       "      <td>55401.0</td>\n",
       "      <td>44.984577</td>\n",
       "      <td>-93.269097</td>\n",
       "      <td>44.980936</td>\n",
       "      <td>-93.266058</td>\n",
       "    </tr>\n",
       "    <tr>\n",
       "      <th>3</th>\n",
       "      <td>16</td>\n",
       "      <td>1228</td>\n",
       "      <td>4313</td>\n",
       "      <td>2021/04/29 20:29:59+00</td>\n",
       "      <td>14462.0</td>\n",
       "      <td>55405.0</td>\n",
       "      <td>44.972669</td>\n",
       "      <td>-93.301675</td>\n",
       "      <td>44.956413</td>\n",
       "      <td>-93.296596</td>\n",
       "    </tr>\n",
       "    <tr>\n",
       "      <th>4</th>\n",
       "      <td>17</td>\n",
       "      <td>195</td>\n",
       "      <td>36</td>\n",
       "      <td>2021/04/29 20:29:59+00</td>\n",
       "      <td>17188.0</td>\n",
       "      <td>55403.0</td>\n",
       "      <td>44.970570</td>\n",
       "      <td>-93.284044</td>\n",
       "      <td>44.968794</td>\n",
       "      <td>-93.281348</td>\n",
       "    </tr>\n",
       "    <tr>\n",
       "      <th>...</th>\n",
       "      <td>...</td>\n",
       "      <td>...</td>\n",
       "      <td>...</td>\n",
       "      <td>...</td>\n",
       "      <td>...</td>\n",
       "      <td>...</td>\n",
       "      <td>...</td>\n",
       "      <td>...</td>\n",
       "      <td>...</td>\n",
       "      <td>...</td>\n",
       "    </tr>\n",
       "    <tr>\n",
       "      <th>149742</th>\n",
       "      <td>825234</td>\n",
       "      <td>109</td>\n",
       "      <td>301</td>\n",
       "      <td>2021/12/05 02:29:59+00</td>\n",
       "      <td>20563.0</td>\n",
       "      <td>55401.0</td>\n",
       "      <td>44.984577</td>\n",
       "      <td>-93.269097</td>\n",
       "      <td>44.982561</td>\n",
       "      <td>-93.269574</td>\n",
       "    </tr>\n",
       "    <tr>\n",
       "      <th>149743</th>\n",
       "      <td>825239</td>\n",
       "      <td>379</td>\n",
       "      <td>1269</td>\n",
       "      <td>2021/12/05 02:29:59+00</td>\n",
       "      <td>21091.0</td>\n",
       "      <td>55401.0</td>\n",
       "      <td>44.984577</td>\n",
       "      <td>-93.269097</td>\n",
       "      <td>44.985777</td>\n",
       "      <td>-93.269574</td>\n",
       "    </tr>\n",
       "    <tr>\n",
       "      <th>149744</th>\n",
       "      <td>825243</td>\n",
       "      <td>350</td>\n",
       "      <td>1023</td>\n",
       "      <td>2021/12/05 03:00:00+00</td>\n",
       "      <td>17341.0</td>\n",
       "      <td>55403.0</td>\n",
       "      <td>44.970570</td>\n",
       "      <td>-93.284044</td>\n",
       "      <td>44.969863</td>\n",
       "      <td>-93.280080</td>\n",
       "    </tr>\n",
       "    <tr>\n",
       "      <th>149745</th>\n",
       "      <td>825245</td>\n",
       "      <td>426</td>\n",
       "      <td>1075</td>\n",
       "      <td>2021/12/05 03:30:00+00</td>\n",
       "      <td>14827.0</td>\n",
       "      <td>55401.0</td>\n",
       "      <td>44.984577</td>\n",
       "      <td>-93.269097</td>\n",
       "      <td>44.988167</td>\n",
       "      <td>-93.277601</td>\n",
       "    </tr>\n",
       "    <tr>\n",
       "      <th>149746</th>\n",
       "      <td>825257</td>\n",
       "      <td>254</td>\n",
       "      <td>353</td>\n",
       "      <td>2021/12/05 05:29:59+00</td>\n",
       "      <td>16661.0</td>\n",
       "      <td>55403.0</td>\n",
       "      <td>44.970570</td>\n",
       "      <td>-93.284044</td>\n",
       "      <td>44.974496</td>\n",
       "      <td>-93.281022</td>\n",
       "    </tr>\n",
       "  </tbody>\n",
       "</table>\n",
       "<p>149747 rows × 10 columns</p>\n",
       "</div>"
      ],
      "text/plain": [
       "        Unnamed: 0  TripDuration  TripDistance               StartTime  \\\n",
       "0                1           490          1561  2021/04/29 20:00:00+00   \n",
       "1                3           246            96  2021/04/29 20:00:00+00   \n",
       "2                4          3900          5101  2021/04/29 20:00:00+00   \n",
       "3               16          1228          4313  2021/04/29 20:29:59+00   \n",
       "4               17           195            36  2021/04/29 20:29:59+00   \n",
       "...            ...           ...           ...                     ...   \n",
       "149742      825234           109           301  2021/12/05 02:29:59+00   \n",
       "149743      825239           379          1269  2021/12/05 02:29:59+00   \n",
       "149744      825243           350          1023  2021/12/05 03:00:00+00   \n",
       "149745      825245           426          1075  2021/12/05 03:30:00+00   \n",
       "149746      825257           254           353  2021/12/05 05:29:59+00   \n",
       "\n",
       "        StartCenterlineID  Zipcode        LAT        LNG  start_lat  start_lon  \n",
       "0                 16638.0  55414.0  44.979486 -93.227314  44.981964 -93.234606  \n",
       "1                 16641.0  55414.0  44.979486 -93.227314  44.981536 -93.236780  \n",
       "2                 20562.0  55401.0  44.984577 -93.269097  44.980936 -93.266058  \n",
       "3                 14462.0  55405.0  44.972669 -93.301675  44.956413 -93.296596  \n",
       "4                 17188.0  55403.0  44.970570 -93.284044  44.968794 -93.281348  \n",
       "...                   ...      ...        ...        ...        ...        ...  \n",
       "149742            20563.0  55401.0  44.984577 -93.269097  44.982561 -93.269574  \n",
       "149743            21091.0  55401.0  44.984577 -93.269097  44.985777 -93.269574  \n",
       "149744            17341.0  55403.0  44.970570 -93.284044  44.969863 -93.280080  \n",
       "149745            14827.0  55401.0  44.984577 -93.269097  44.988167 -93.277601  \n",
       "149746            16661.0  55403.0  44.970570 -93.284044  44.974496 -93.281022  \n",
       "\n",
       "[149747 rows x 10 columns]"
      ]
     },
     "execution_count": 5,
     "metadata": {},
     "output_type": "execute_result"
    }
   ],
   "source": [
    "data"
   ]
  },
  {
   "cell_type": "code",
   "execution_count": 6,
   "metadata": {
    "id": "ZgMzVd8tWWB5"
   },
   "outputs": [],
   "source": [
    "cor = data[['start_lat','start_lon']]"
   ]
  },
  {
   "cell_type": "code",
   "execution_count": 7,
   "metadata": {
    "id": "LvGEYkwgVfxy"
   },
   "outputs": [
    {
     "data": {
      "image/png": "[encoded data removed]",
      "text/plain": [
       "<Figure size 800x640 with 1 Axes>"
      ]
     },
     "metadata": {
      "needs_background": "light"
     },
     "output_type": "display_data"
    }
   ],
   "source": [
    "# calculate distortion for a range of number of cluster\n",
    "distortions = []\n",
    "figure(figsize=(10,8), dpi=80)\n",
    "\n",
    "for i in range(1, 16):\n",
    "    km = KMeans(\n",
    "        n_clusters=i, init='random',\n",
    "        n_init=10, max_iter=300,\n",
    "        tol=1e-04, random_state=0\n",
    "    )\n",
    "    km.fit(cor)\n",
    "    distortions.append(km.inertia_)\n",
    "\n",
    "# plot\n",
    "plt.plot(range(1, 16), distortions, marker='o')\n",
    "plt.title('The Elbow Method')\n",
    "plt.xlabel('Number of clusters')\n",
    "plt.ylabel('Distortion')\n",
    "plt.show()"
   ]
  },
  {
   "cell_type": "code",
   "execution_count": 8,
   "metadata": {
    "id": "JCADEwsOVfrt"
   },
   "outputs": [
    {
     "name": "stderr",
     "output_type": "stream",
     "text": [
      "<ipython-input-8-8bdbdffb33c6>:2: SettingWithCopyWarning: \n",
      "A value is trying to be set on a copy of a slice from a DataFrame.\n",
      "Try using .loc[row_indexer,col_indexer] = value instead\n",
      "\n",
      "See the caveats in the documentation: https://pandas.pydata.org/pandas-docs/stable/user_guide/indexing.html#returning-a-view-versus-a-copy\n",
      "  cor['cluster'] = kmeans.labels_\n"
     ]
    },
    {
     "data": {
      "text/plain": [
       "0    53987\n",
       "3    30080\n",
       "5    27793\n",
       "1    19958\n",
       "2    11496\n",
       "4     6433\n",
       "Name: cluster, dtype: int64"
      ]
     },
     "execution_count": 8,
     "metadata": {},
     "output_type": "execute_result"
    }
   ],
   "source": [
    "kmeans = KMeans(n_clusters=6, random_state=0,).fit(cor) # By using an Elbow Method for K-means clustering we find the optimal number of clusters to be = 4\n",
    "cor['cluster'] = kmeans.labels_\n",
    "cor.cluster.value_counts()"
   ]
  },
  {
   "cell_type": "code",
   "execution_count": 9,
   "metadata": {
    "id": "XPREdNN9Vfpw"
   },
   "outputs": [
    {
     "name": "stdout",
     "output_type": "stream",
     "text": [
      "central of every cluster is:\n",
      " [[ 44.97662635 -93.27285162]\n",
      " [ 44.97922967 -93.23478796]\n",
      " [ 44.96423261 -93.28110306]\n",
      " [ 44.98711586 -93.27461665]\n",
      " [ 44.94855555 -93.29578905]\n",
      " [ 44.9817265  -93.25531117]]\n",
      "labels are: \n",
      " [1 1 0 ... 2 3 0]\n",
      "number of each cluster：\n",
      " 0    53987\n",
      "3    30080\n",
      "5    27793\n",
      "1    19958\n",
      "2    11496\n",
      "4     6433\n",
      "dtype: int64\n"
     ]
    }
   ],
   "source": [
    "kmeans_cc=kmeans.cluster_centers_\n",
    "print('central of every cluster is:\\n',kmeans_cc)\n",
    "kmeans_labels= kmeans.labels_\n",
    "print('labels are: \\n',kmeans.labels_)\n",
    "r1 = pd.Series(kmeans.labels_).value_counts()  \n",
    "print('number of each cluster：\\n',r1)\n"
   ]
  },
  {
   "cell_type": "code",
   "execution_count": 10,
   "metadata": {
    "id": "kgp06gfrYvLu"
   },
   "outputs": [
    {
     "data": {
      "text/html": [
       "<div>\n",
       "<style scoped>\n",
       "    .dataframe tbody tr th:only-of-type {\n",
       "        vertical-align: middle;\n",
       "    }\n",
       "\n",
       "    .dataframe tbody tr th {\n",
       "        vertical-align: top;\n",
       "    }\n",
       "\n",
       "    .dataframe thead th {\n",
       "        text-align: right;\n",
       "    }\n",
       "</style>\n",
       "<table border=\"1\" class=\"dataframe\">\n",
       "  <thead>\n",
       "    <tr style=\"text-align: right;\">\n",
       "      <th></th>\n",
       "      <th>start_lat</th>\n",
       "      <th>start_lon</th>\n",
       "      <th>cluster</th>\n",
       "    </tr>\n",
       "  </thead>\n",
       "  <tbody>\n",
       "    <tr>\n",
       "      <th>0</th>\n",
       "      <td>44.981964</td>\n",
       "      <td>-93.234606</td>\n",
       "      <td>1</td>\n",
       "    </tr>\n",
       "    <tr>\n",
       "      <th>1</th>\n",
       "      <td>44.981536</td>\n",
       "      <td>-93.236780</td>\n",
       "      <td>1</td>\n",
       "    </tr>\n",
       "    <tr>\n",
       "      <th>2</th>\n",
       "      <td>44.980936</td>\n",
       "      <td>-93.266058</td>\n",
       "      <td>0</td>\n",
       "    </tr>\n",
       "    <tr>\n",
       "      <th>3</th>\n",
       "      <td>44.956413</td>\n",
       "      <td>-93.296596</td>\n",
       "      <td>4</td>\n",
       "    </tr>\n",
       "    <tr>\n",
       "      <th>4</th>\n",
       "      <td>44.968794</td>\n",
       "      <td>-93.281348</td>\n",
       "      <td>2</td>\n",
       "    </tr>\n",
       "    <tr>\n",
       "      <th>...</th>\n",
       "      <td>...</td>\n",
       "      <td>...</td>\n",
       "      <td>...</td>\n",
       "    </tr>\n",
       "    <tr>\n",
       "      <th>149742</th>\n",
       "      <td>44.982561</td>\n",
       "      <td>-93.269574</td>\n",
       "      <td>0</td>\n",
       "    </tr>\n",
       "    <tr>\n",
       "      <th>149743</th>\n",
       "      <td>44.985777</td>\n",
       "      <td>-93.269574</td>\n",
       "      <td>3</td>\n",
       "    </tr>\n",
       "    <tr>\n",
       "      <th>149744</th>\n",
       "      <td>44.969863</td>\n",
       "      <td>-93.280080</td>\n",
       "      <td>2</td>\n",
       "    </tr>\n",
       "    <tr>\n",
       "      <th>149745</th>\n",
       "      <td>44.988167</td>\n",
       "      <td>-93.277601</td>\n",
       "      <td>3</td>\n",
       "    </tr>\n",
       "    <tr>\n",
       "      <th>149746</th>\n",
       "      <td>44.974496</td>\n",
       "      <td>-93.281022</td>\n",
       "      <td>0</td>\n",
       "    </tr>\n",
       "  </tbody>\n",
       "</table>\n",
       "<p>149747 rows × 3 columns</p>\n",
       "</div>"
      ],
      "text/plain": [
       "        start_lat  start_lon  cluster\n",
       "0       44.981964 -93.234606        1\n",
       "1       44.981536 -93.236780        1\n",
       "2       44.980936 -93.266058        0\n",
       "3       44.956413 -93.296596        4\n",
       "4       44.968794 -93.281348        2\n",
       "...           ...        ...      ...\n",
       "149742  44.982561 -93.269574        0\n",
       "149743  44.985777 -93.269574        3\n",
       "149744  44.969863 -93.280080        2\n",
       "149745  44.988167 -93.277601        3\n",
       "149746  44.974496 -93.281022        0\n",
       "\n",
       "[149747 rows x 3 columns]"
      ]
     },
     "execution_count": 10,
     "metadata": {},
     "output_type": "execute_result"
    }
   ],
   "source": [
    "cor"
   ]
  },
  {
   "cell_type": "code",
   "execution_count": 11,
   "metadata": {
    "id": "OGv6UX30Vfnv"
   },
   "outputs": [
    {
     "data": {
      "image/png": "[encoded data removed]",
      "text/plain": [
       "<Figure size 720x432 with 1 Axes>"
      ]
     },
     "metadata": {},
     "output_type": "display_data"
    }
   ],
   "source": [
    "ax = sns.set(rc={\"figure.figsize\":(10, 6)})\n",
    "ax = sns.scatterplot(x=\"start_lon\", y=\"start_lat\", hue=cor['cluster'], data=cor, palette=\"bright\", alpha=0.6, s=50, legend='full')\n",
    "#ax = sns.scatterplot(cor.start_lat, cor.start_lon, hue=range(kmeans.n_clusters),s=100, palette=\"bright\", ec='black', legend=False, marker='X',ax=ax)\n",
    "#ax.set_xscale('log')\n",
    "plt.xlabel(\"longitude\")\n",
    "plt.ylabel(\"latitude\")\n",
    "plt.title('K-means Clustering')\n",
    "plt.show()"
   ]
  },
  {
   "cell_type": "code",
   "execution_count": 13,
   "metadata": {
    "id": "AzQj5d1-Yzvv"
   },
   "outputs": [
    {
     "data": {
      "text/html": [
       "<div>\n",
       "<style scoped>\n",
       "    .dataframe tbody tr th:only-of-type {\n",
       "        vertical-align: middle;\n",
       "    }\n",
       "\n",
       "    .dataframe tbody tr th {\n",
       "        vertical-align: top;\n",
       "    }\n",
       "\n",
       "    .dataframe thead th {\n",
       "        text-align: right;\n",
       "    }\n",
       "</style>\n",
       "<table border=\"1\" class=\"dataframe\">\n",
       "  <thead>\n",
       "    <tr style=\"text-align: right;\">\n",
       "      <th></th>\n",
       "      <th>lat</th>\n",
       "      <th>lon</th>\n",
       "    </tr>\n",
       "  </thead>\n",
       "  <tbody>\n",
       "    <tr>\n",
       "      <th>0</th>\n",
       "      <td>44.976626</td>\n",
       "      <td>-93.272852</td>\n",
       "    </tr>\n",
       "    <tr>\n",
       "      <th>1</th>\n",
       "      <td>44.979230</td>\n",
       "      <td>-93.234788</td>\n",
       "    </tr>\n",
       "    <tr>\n",
       "      <th>2</th>\n",
       "      <td>44.964233</td>\n",
       "      <td>-93.281103</td>\n",
       "    </tr>\n",
       "    <tr>\n",
       "      <th>3</th>\n",
       "      <td>44.987116</td>\n",
       "      <td>-93.274617</td>\n",
       "    </tr>\n",
       "    <tr>\n",
       "      <th>4</th>\n",
       "      <td>44.948556</td>\n",
       "      <td>-93.295789</td>\n",
       "    </tr>\n",
       "    <tr>\n",
       "      <th>5</th>\n",
       "      <td>44.981727</td>\n",
       "      <td>-93.255311</td>\n",
       "    </tr>\n",
       "  </tbody>\n",
       "</table>\n",
       "</div>"
      ],
      "text/plain": [
       "         lat        lon\n",
       "0  44.976626 -93.272852\n",
       "1  44.979230 -93.234788\n",
       "2  44.964233 -93.281103\n",
       "3  44.987116 -93.274617\n",
       "4  44.948556 -93.295789\n",
       "5  44.981727 -93.255311"
      ]
     },
     "execution_count": 13,
     "metadata": {},
     "output_type": "execute_result"
    }
   ],
   "source": [
    "centers = pd.DataFrame(kmeans_cc)\n",
    "centers.columns = ['lat','lon']\n",
    "centers"
   ]
  },
  {
   "cell_type": "code",
   "execution_count": 24,
   "metadata": {},
   "outputs": [],
   "source": [
    "from gmplot import gmplot\n",
    "\n",
    "lats = centers['lat'].tolist()\n",
    "lons = centers['lon'].tolist()\n",
    "gmap = gmplot.GoogleMapPlotter(lats[0], lons[0], 13)\n",
    "gmap.apikey=\"...\"\n",
    "gmap.scatter(lats, lons, size = 40, marker = True)\n",
    "lats2 = cor.loc[cor.cluster==0]['start_lat'].tolist()\n",
    "lons2 = cor.loc[cor.cluster==0]['start_lon'].tolist()\n",
    "gmap.heatmap(lats2, lons2,radius=5,opacity = 0.5,gradient=[(0, 0, 255, 0), (0, 255, 0, 0.9), (255, 0, 0, 1)])\n",
    "lats2 = cor.loc[cor.cluster==1]['start_lat'].tolist()\n",
    "lons2 = cor.loc[cor.cluster==1]['start_lon'].tolist()\n",
    "gmap.heatmap(lats2, lons2,radius=5,opacity = 0.5,gradient=[(0, 0, 255, 0), (0, 255, 0, 0.9), (0, 255, 0, 1)])\n",
    "lats2 = cor.loc[cor.cluster==2]['start_lat'].tolist()\n",
    "lons2 = cor.loc[cor.cluster==2]['start_lon'].tolist()\n",
    "gmap.heatmap(lats2, lons2,radius=5,opacity = 0.5,gradient=[(0, 0, 255, 0), (0, 255, 0, 0.9), (0, 0, 255, 1)])\n",
    "lats2 = cor.loc[cor.cluster==3]['start_lat'].tolist()\n",
    "lons2 = cor.loc[cor.cluster==3]['start_lon'].tolist()\n",
    "gmap.heatmap(lats2, lons2,radius=5,opacity = 0.5,gradient=[(0, 0, 255, 0), (0, 255, 0, 0.9), (255, 0, 255, 1)])\n",
    "lats2 = cor.loc[cor.cluster==4]['start_lat'].tolist()\n",
    "lons2 = cor.loc[cor.cluster==4]['start_lon'].tolist()\n",
    "gmap.heatmap(lats2, lons2,radius=5,opacity = 0.5,gradient=[(0, 0, 255, 0), (0, 255, 0, 0.9), (200, 255, 230, 1)])\n",
    "lats2 = cor.loc[cor.cluster==5]['start_lat'].tolist()\n",
    "lons2 = cor.loc[cor.cluster==5]['start_lon'].tolist()\n",
    "gmap.heatmap(lats2, lons2,radius=5,opacity = 0.5,gradient=[(0, 0, 255, 0), (0, 255, 0, 0.9), (0, 170, 255, 1)])\n",
    "lats2 = cor.loc[cor.cluster==6]['start_lat'].tolist()\n",
    "lons2 = cor.loc[cor.cluster==6]['start_lon'].tolist()\n",
    "gmap.heatmap(lats2, lons2,radius=5,opacity = 0.7,gradient=[(0, 0, 255, 0), (0, 255, 0, 0.9), (255, 170, 0, 1)])"
   ]
  },
  {
   "cell_type": "code",
   "execution_count": 25,
   "metadata": {},
   "outputs": [],
   "source": [
    "#gmap.heatmap(lats, lons,radius=8,opacity = 0.5)\n",
    "gmap.draw(\"bss_cluster.html\")"
   ]
  },
  {
   "cell_type": "code",
   "execution_count": null,
   "metadata": {},
   "outputs": [],
   "source": []
  }
 ],
 "metadata": {
  "colab": {
   "name": "Minneapolis Cluster.ipynb",
   "private_outputs": true,
   "provenance": []
  },
  "kernelspec": {
   "display_name": "Python 3",
   "language": "python",
   "name": "python3"
  },
  "language_info": {
   "codemirror_mode": {
    "name": "ipython",
    "version": 3
   },
   "file_extension": ".py",
   "mimetype": "text/x-python",
   "name": "python",
   "nbconvert_exporter": "python",
   "pygments_lexer": "ipython3",
   "version": "3.8.5"
  }
 },
 "nbformat": 4,
 "nbformat_minor": 1
}
